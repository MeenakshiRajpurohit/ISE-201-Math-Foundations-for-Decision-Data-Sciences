{
  "nbformat": 4,
  "nbformat_minor": 0,
  "metadata": {
    "colab": {
      "provenance": [],
      "authorship_tag": "ABX9TyML+a8YM5njxSe4WM2ZwQ6J",
      "include_colab_link": true
    },
    "kernelspec": {
      "name": "python3",
      "display_name": "Python 3"
    },
    "language_info": {
      "name": "python"
    }
  },
  "cells": [
    {
      "cell_type": "markdown",
      "metadata": {
        "id": "view-in-github",
        "colab_type": "text"
      },
      "source": [
        "<a href=\"https://colab.research.google.com/github/MeenakshiRajpurohit/ISE-201-Math-Foundations-for-Decision-Data-Sciences/blob/main/hw1_not_corrected.ipynb\" target=\"_parent\"><img src=\"https://colab.research.google.com/assets/colab-badge.svg\" alt=\"Open In Colab\"/></a>"
      ]
    },
    {
      "cell_type": "markdown",
      "source": [
        "**6.1.4 For any set of data values, is it possible for the sample standard deviation to be larger than the sample mean? If so, give an example.**\n",
        "\n",
        "Ans: Yes, it is **absolutely possible** for the sample standard deviation to be larger than the sample mean.\n",
        "\n",
        "The sample mean ($\\bar{x}$) and the sample standard deviation ($s$) measure fundamentally different properties of a dataset and are not mathematically constrained by each other.\n",
        "\n",
        "* The **Sample Mean ($\\bar{x}$)** measures the **central tendency** (the typical value).\n",
        "* The **Sample Standard Deviation ($s$)** measures the **dispersion** or **spread** of the data around the mean.\n",
        "\n",
        "A small mean and a large standard deviation simply indicate that the data is very spread out around a center point that is close to zero.\n",
        "\n",
        "\n",
        "### Example\n",
        "\n",
        "Consider the following small dataset, $X$, which contains non-negative integers:\n",
        "\n",
        "$$\n",
        "X = \\{1, 2, 3, 10, 14\\}\n",
        "$$\n",
        "\n",
        "#### 1. Calculate the Sample Mean ($\\bar{x}$)\n",
        "\n",
        "The mean is the sum of the values divided by the count ($n=5$):\n",
        "\n",
        "$$\n",
        "\\bar{x} = \\frac{1 + 2 + 3 + 10 + 14}{5} = \\frac{30}{5} = \\mathbf{6}\n",
        "$$\n",
        "\n",
        "#### 2. Calculate the Sample Standard Deviation ($s$)\n",
        "\n",
        "The standard deviation is the square root of the variance. For a sample, the variance ($s^2$) is calculated as:\n",
        "\n",
        "$$\n",
        "s^2 = \\frac{\\sum (x_i - \\bar{x})^2}{n-1}\n",
        "$$\n",
        "\n",
        "| $x_i$ | $(x_i - \\bar{x})$ | $(x_i - \\bar{x})^2$ |\n",
        "| :---: | :---: | :---: |\n",
        "| 1 | $1 - 6 = -5$ | 25 |\n",
        "| 2 | $2 - 6 = -4$ | 16 |\n",
        "| 3 | $3 - 6 = -3$ | 9 |\n",
        "| 10 | $10 - 6 = 4$ | 16 |\n",
        "| 14 | $14 - 6 = 8$ | 64 |\n",
        "| **Sum** | | **130** |\n",
        "\n",
        "Now, calculate $s$:\n",
        "$$\n",
        "s = \\sqrt{\\frac{130}{5-1}} = \\sqrt{\\frac{130}{4}} = \\sqrt{32.5} \\approx \\mathbf{5.70}\n",
        "$$\n",
        "\n",
        "#### Conclusion\n",
        "\n",
        "Comparing the two results:\n",
        "\n",
        "| Statistic | Value |\n",
        "| :---: | :---: |\n",
        "| Sample Mean ($\\bar{x}$) | 6 |\n",
        "| Sample Standard Deviation ($s$) | 5.70 |\n",
        "\n",
        "In this case, the sample mean (6) is slightly **larger** than the sample standard deviation (5.70). However, the values are very close.\n",
        "\n",
        "***\n",
        "\n",
        "### An Even Stronger Example\n",
        "\n",
        "To make the standard deviation clearly larger than the mean, we can simply shift the data closer to zero while keeping the spread large. We will use a dataset with smaller values that are still very spread out.\n",
        "\n",
        "$$\n",
        "Y = \\{0, 0, 1, 19\\}\n",
        "$$\n",
        "(Here, $n=4$).\n",
        "\n",
        "#### 1. Calculate the Sample Mean ($\\bar{y}$)\n",
        "\n",
        "$$\n",
        "\\bar{y} = \\frac{0 + 0 + 1 + 19}{4} = \\frac{20}{4} = \\mathbf{5}\n",
        "$$\n",
        "\n",
        "#### 2. Calculate the Sample Standard Deviation ($s$)\n",
        "\n",
        "| $y_i$ | $(y_i - \\bar{y})$ | $(y_i - \\bar{y})^2$ |\n",
        "| :---: | :---: | :---: |\n",
        "| 0 | $0 - 5 = -5$ | 25 |\n",
        "| 0 | $0 - 5 = -5$ | 25 |\n",
        "| 1 | $1 - 5 = -4$ | 16 |\n",
        "| 19 | $19 - 5 = 14$ | 196 |\n",
        "| **Sum** | | **262** |\n",
        "\n",
        "Now, calculate $s$:\n",
        "$$\n",
        "s = \\sqrt{\\frac{262}{4-1}} = \\sqrt{\\frac{262}{3}} = \\sqrt{87.33} \\approx \\mathbf{9.35}\n",
        "$$\n",
        "\n",
        "#### Conclusion\n",
        "\n",
        "Comparing the two results:\n",
        "\n",
        "| Statistic | Value |\n",
        "| :---: | :---: |\n",
        "| Sample Mean ($\\bar{y}$) | 5.00 |\n",
        "| Sample Standard Deviation ($s$) | 9.35 |\n",
        "\n",
        "In this clear example, the **sample standard deviation (9.35) is significantly larger than the sample mean (5.00)**. This occurs because the mean is small (due to the inclusion of zeros and ones), but the large value of 19 creates extreme dispersion, resulting in a high standard deviation."
      ],
      "metadata": {
        "id": "jbBHG0NPjY5v"
      }
    },
    {
      "cell_type": "code",
      "source": [],
      "metadata": {
        "id": "cStdmH70lXnK"
      },
      "execution_count": null,
      "outputs": []
    },
    {
      "cell_type": "markdown",
      "source": [
        "**6.1.5 Can the sample standard deviation be equal to zero? If so,\n",
        "give an example.**\n",
        "\n",
        "ans Yes, the sample standard deviation **can be equal to zero**.\n",
        "\n",
        "The standard deviation measures the **dispersion** (spread) of data points around the mean. If the standard deviation is zero, it means there is **no spread** in the data—every single data point is exactly equal to the sample mean.\n",
        "\n",
        "***\n",
        "\n",
        "## Example\n",
        "\n",
        "Consider the following dataset, $X$, where all values are the same:\n",
        "\n",
        "$$\n",
        "X = \\{5, 5, 5, 5\\}\n",
        "$$\n",
        "\n",
        "### 1. Calculate the Sample Mean ($\\bar{x}$)\n",
        "\n",
        "The mean is the sum of the values divided by the count ($n=4$):\n",
        "\n",
        "$$\n",
        "\\bar{x} = \\frac{5 + 5 + 5 + 5}{4} = \\frac{20}{4} = 5\n",
        "$$\n",
        "\n",
        "### 2. Calculate the Sample Standard Deviation ($s$)\n",
        "\n",
        "The standard deviation is the square root of the variance ($s^2$).\n",
        "$$\n",
        "s = \\sqrt{\\frac{\\sum (x_i - \\bar{x})^2}{n-1}}\n",
        "$$\n",
        "\n",
        "First, we calculate the squared differences from the mean:\n",
        "\n",
        "| $x_i$ | $(x_i - \\bar{x})$ | $(x_i - \\bar{x})^2$ |\n",
        "| :---: | :---: | :---: |\n",
        "| 5 | $5 - 5 = 0$ | 0 |\n",
        "| 5 | $5 - 5 = 0$ | 0 |\n",
        "| 5 | $5 - 5 = 0$ | 0 |\n",
        "| 5 | $5 - 5 = 0$ | 0 |\n",
        "| **Sum** | | **0** |\n",
        "\n",
        "Now, we compute the standard deviation:\n",
        "\n",
        "$$\n",
        "s = \\sqrt{\\frac{0}{4-1}} = \\sqrt{\\frac{0}{3}} = \\sqrt{0} = \\mathbf{0}\n",
        "$$\n",
        "\n",
        "Since the variance (the numerator) is the sum of the squared deviations, if every deviation is zero, the sum is zero, and thus the standard deviation is zero. This will always be the case for any dataset where **all the data values are identical**."
      ],
      "metadata": {
        "id": "_QPUUW4kkxQ9"
      }
    },
    {
      "cell_type": "markdown",
      "source": [
        "**6.1.14 In the 2000 Sydney Olympics, a special program initiated by the IOC president allowed developing countries to send\n",
        "athletes to the Olympics without the usual qualifying procedure.\n",
        "Here are the 71 times for the first round of the 100-meter men’s\n",
        "swim (in seconds).\n",
        "\n",
        "\n",
        "60.39 49.93 53.40 51.82 50.46 51.34 50.28 50.19 52.14\n",
        "50.56 52.72 50.95 49.74 49.16 52.57 52.53 52.09 52.40\n",
        "49.75 54.06 53.50 50.63 51.93 51.62 52.58 53.55 51.07\n",
        "49.76 49.73 50.90 59.26 49.29 52.78 112.72 49.79 49.83\n",
        "52.43 51.28 52.22 49.76 49.70 52.90 50.19 54.33 62.45\n",
        "51.93 52.24 52.82 50.96 48.64 51.11 50.87 52.18 54.12\n",
        "50.49 49.84 52.91 52.52 50.32 51.52 52.0 52.85 52.24\n",
        "49.45 51.28 49.09 58.79 49.74 49.32 50.62 49.45\n",
        "\n",
        "\n",
        "a. Find the sample mean and sample standard deviation\n",
        "of these 100-meter swim times.\n",
        "b. Construct a dot diagram of the data.\n",
        "c. Comment on anything unusual that you see.**"
      ],
      "metadata": {
        "id": "J9X-g9hSlhx3"
      }
    },
    {
      "cell_type": "markdown",
      "source": [],
      "metadata": {
        "id": "Q-neyBF7ljWg"
      }
    },
    {
      "cell_type": "code",
      "source": [
        "import pandas as pd\n",
        "import numpy as np\n",
        "import matplotlib.pyplot as plt\n",
        "import seaborn as sns\n",
        "\n",
        "# --- Data Extraction from CSV ---\n",
        "# Load the CSV file. We use header=None because the file has a non-standard header layout.\n",
        "df = pd.read_csv(\"/content/HW01Data.csv\", header=None)\n",
        "\n",
        "# The data for 'EX 6.1.14' is in the 10th column (index 9), starting from the 3rd row (index 2).\n",
        "swim_times_raw = df.iloc[2:, 9]\n",
        "\n",
        "# Clean the data: convert to numeric type and remove any empty cells (NaN).\n",
        "swim_times = pd.to_numeric(swim_times_raw.dropna())\n",
        "\n",
        "# --- Part a: Calculation of Sample Mean and Standard Deviation ---\n",
        "sample_mean = swim_times.mean()\n",
        "# ddof=1 is essential for calculating the SAMPLE standard deviation (divides by n-1).\n",
        "sample_std = swim_times.std(ddof=1)\n",
        "\n",
        "# --- Part b: Generate Dot Diagram ---\n",
        "df_plot = pd.DataFrame({'Time (s)': swim_times})\n",
        "\n",
        "plt.figure(figsize=(12, 4))\n",
        "sns.stripplot(x='Time (s)', y=np.zeros(len(df_plot)), data=df_plot,\n",
        "              jitter=0.2, alpha=0.7, size=7, color='blue', edgecolor='gray', linewidth=0.5)\n",
        "\n",
        "# Add a line for the mean\n",
        "plt.axvline(sample_mean, color='red', linestyle='--', label=f'Mean: {sample_mean:.2f}s')\n",
        "\n",
        "plt.title('Dot Diagram of 100-meter Men’s Swim Times (EX 6.1.14)', fontsize=14)\n",
        "plt.xlabel('Time (seconds)', fontsize=12)\n",
        "plt.yticks([])\n",
        "plt.legend()\n",
        "plt.grid(axis='x', linestyle=':', alpha=0.6)\n",
        "plt.tight_layout()\n",
        "plt.show()\n",
        "\n",
        "# --- Part c: Bonus Calculation for Context (The standard deviation without the outlier) ---\n",
        "times_no_outlier = swim_times[swim_times < 100]\n",
        "std_no_outlier = times_no_outlier.std(ddof=1)"
      ],
      "metadata": {
        "colab": {
          "base_uri": "https://localhost:8080/",
          "height": 394
        },
        "id": "cCJno7S57HoA",
        "outputId": "3bd3f7c6-a23e-4927-a9ef-7a156241c317"
      },
      "execution_count": null,
      "outputs": [
        {
          "output_type": "stream",
          "name": "stderr",
          "text": [
            "/tmp/ipython-input-3307851357.py:25: FutureWarning: Use \"auto\" to set automatic grayscale colors. From v0.14.0, \"gray\" will default to matplotlib's definition.\n",
            "  sns.stripplot(x='Time (s)', y=np.zeros(len(df_plot)), data=df_plot,\n"
          ]
        },
        {
          "output_type": "display_data",
          "data": {
            "text/plain": [
              "<Figure size 1200x400 with 1 Axes>"
            ],
            "image/png": "[encoded data removed]"
          },
          "metadata": {}
        }
      ]
    },
    {
      "cell_type": "code",
      "source": [
        "import pandas as pd\n",
        "import numpy as np\n",
        "import matplotlib.pyplot as plt\n",
        "import seaborn as sns\n",
        "\n",
        "# --- 1. Data Extraction from CSV ---\n",
        "# Load the CSV file. We use header=None because the file has a non-standard header layout.\n",
        "df = pd.read_csv(\"/content/HW01Data.csv\", header=None)\n",
        "\n",
        "# The data for 'EX 6.1.14' is in the 10th column (index 9), starting from the 3rd row (index 2).\n",
        "swim_times_raw = df.iloc[2:, 9]\n",
        "\n",
        "# Clean the data: convert to numeric type and remove any empty cells (NaN).\n",
        "swim_times = pd.to_numeric(swim_times_raw.dropna())\n",
        "\n",
        "# --- Part a: Calculation of Sample Mean and Standard Deviation ---\n",
        "sample_mean = swim_times.mean()\n",
        "# ddof=1 is essential for calculating the SAMPLE standard deviation (divides by n-1).\n",
        "sample_std = swim_times.std(ddof=1)\n",
        "\n",
        "print(\"--- Calculated Statistics ---\")\n",
        "print(f\"Sample Mean (seconds): {sample_mean:.4f}\")\n",
        "print(f\"Sample Standard Deviation (seconds): {sample_std:.4f}\")\n",
        "print(\"-\" * 30)\n",
        "\n",
        "# --- Part b: Generate Dot Diagram ---\n",
        "# Create a DataFrame for plotting\n",
        "df_plot = pd.DataFrame({'Time (s)': swim_times})\n",
        "\n",
        "plt.figure(figsize=(12, 4))\n",
        "# Stripplot acts as a dot diagram\n",
        "sns.stripplot(x='Time (s)', y=np.zeros(len(df_plot)), data=df_plot,\n",
        "              jitter=0.2, alpha=0.7, size=7, color='blue', edgecolor='gray', linewidth=0.5)\n",
        "\n",
        "# Add a line for the mean\n",
        "plt.axvline(sample_mean, color='red', linestyle='--', label=f'Mean: {sample_mean:.2f}s')\n",
        "\n",
        "plt.title('Dot Diagram of 100-meter Men’s Swim Times (EX 6.1.14)', fontsize=14)\n",
        "plt.xlabel('Time (seconds)', fontsize=12)\n",
        "plt.yticks([]) # Hide the y-axis labels\n",
        "plt.legend()\n",
        "plt.grid(axis='x', linestyle=':', alpha=0.6)\n",
        "plt.tight_layout()\n",
        "\n",
        "# Save the plot\n",
        "plt.savefig('swim_times_6_1_14_dot_diagram.png')\n",
        "plt.show() # Display the plot\n",
        "\n",
        "# --- Part c: Bonus Calculation for Context (The standard deviation without the outlier) ---\n",
        "# Used to comment on the unusual feature.\n",
        "times_no_outlier = swim_times[swim_times < 100]\n",
        "std_no_outlier = times_no_outlier.std(ddof=1)\n",
        "\n",
        "print(\"--- Context for Analysis (Outlier Removed) ---\")\n",
        "print(f\"Std. Dev. (w/o outlier): {std_no_outlier:.4f}\")\n",
        "print(\"This shows the outlier severely inflated the original standard deviation.\")"
      ],
      "metadata": {
        "colab": {
          "base_uri": "https://localhost:8080/",
          "height": 519
        },
        "id": "R6ZAcSms8YKd",
        "outputId": "116b6e4e-ed0f-406d-8344-2739727370b9"
      },
      "execution_count": null,
      "outputs": [
        {
          "output_type": "stream",
          "name": "stdout",
          "text": [
            "--- Calculated Statistics ---\n",
            "Sample Mean (seconds): 52.6476\n",
            "Sample Standard Deviation (seconds): 7.6560\n",
            "------------------------------\n"
          ]
        },
        {
          "output_type": "stream",
          "name": "stderr",
          "text": [
            "/tmp/ipython-input-1869494056.py:32: FutureWarning: Use \"auto\" to set automatic grayscale colors. From v0.14.0, \"gray\" will default to matplotlib's definition.\n",
            "  sns.stripplot(x='Time (s)', y=np.zeros(len(df_plot)), data=df_plot,\n"
          ]
        },
        {
          "output_type": "display_data",
          "data": {
            "text/plain": [
              "<Figure size 1200x400 with 1 Axes>"
            ],
            "image/png": "[encoded data removed]"
          },
          "metadata": {}
        },
        {
          "output_type": "stream",
          "name": "stdout",
          "text": [
            "--- Context for Analysis (Outlier Removed) ---\n",
            "Std. Dev. (w/o outlier): 2.5331\n",
            "This shows the outlier severely inflated the original standard deviation.\n"
          ]
        }
      ]
    },
    {
      "cell_type": "code",
      "source": [
        "import pandas as pd\n",
        "import numpy as np\n",
        "import matplotlib.pyplot as plt\n",
        "import seaborn as sns\n",
        "\n",
        "# --- Data Extraction (for Problem EX 6.1.14) ---\n",
        "# Load the CSV file.\n",
        "df = pd.read_csv(\"/content/HW01Data.csv\", header=None)\n",
        "\n",
        "# Extract column 9 (index 9) starting from row 2 (index 2).\n",
        "swim_times_raw = df.iloc[2:, 9]\n",
        "swim_times = pd.to_numeric(swim_times_raw.dropna())\n",
        "\n",
        "# Create a DataFrame for plotting\n",
        "df_plot = pd.DataFrame({'Time (s)': swim_times, 'Category': 'Times'})\n",
        "sample_mean = swim_times.mean()\n",
        "\n",
        "# --- Non-Overlapping Plot Generation ---\n",
        "plt.figure(figsize=(12, 5))\n",
        "\n",
        "# sns.swarmplot is used to ensure no data points overlap.\n",
        "sns.swarmplot(x='Time (s)', y='Category', data=df_plot,\n",
        "              alpha=0.8, size=6, color='darkgreen', edgecolor='gray', linewidth=0.5)\n",
        "\n",
        "# Add a line for the mean\n",
        "plt.axvline(sample_mean, color='red', linestyle='--', label=f'Mean: {sample_mean:.2f}s')\n",
        "\n",
        "plt.title('Dot Plot (Swarmplot) of 100m Swim Times', fontsize=14)\n",
        "plt.xlabel('Time (seconds)', fontsize=12)\n",
        "plt.ylabel('')\n",
        "plt.yticks([])\n",
        "plt.legend()\n",
        "plt.grid(axis='x', linestyle=':', alpha=0.6)\n",
        "plt.tight_layout()\n",
        "\n",
        "plt.show()"
      ],
      "metadata": {
        "colab": {
          "base_uri": "https://localhost:8080/",
          "height": 475
        },
        "id": "3YWFSmxC9yJ9",
        "outputId": "31d78fb7-c7e6-4492-851a-807e818e781d"
      },
      "execution_count": null,
      "outputs": [
        {
          "output_type": "stream",
          "name": "stderr",
          "text": [
            "/tmp/ipython-input-26619510.py:22: FutureWarning: Use \"auto\" to set automatic grayscale colors. From v0.14.0, \"gray\" will default to matplotlib's definition.\n",
            "  sns.swarmplot(x='Time (s)', y='Category', data=df_plot,\n"
          ]
        },
        {
          "output_type": "display_data",
          "data": {
            "text/plain": [
              "<Figure size 1200x500 with 1 Axes>"
            ],
            "image/png": "[encoded data removed]"
          },
          "metadata": {}
        }
      ]
    },
    {
      "cell_type": "code",
      "source": [
        "import pandas as pd\n",
        "\n",
        "# --- 1. Data Extraction and Cleaning ---\n",
        "# Load the CSV file. We use header=None because the file has a non-standard header layout.\n",
        "#df = pd.read_csv(\"HW 01 Data.csv\", header=None)\n",
        "\n",
        "# The data for 'EX 6.1.14' is in the 10th column (index 9), starting from the 3rd row (index 2).\n",
        "swim_times_raw = df.iloc[2:, 9]\n",
        "\n",
        "# Clean the data: convert to numeric type and remove any empty cells (NaN).\n",
        "swim_times = pd.to_numeric(swim_times_raw.dropna())\n",
        "\n",
        "# --- 2. Calculation of Sample Mean and Sample Standard Deviation ---\n",
        "\n",
        "# a. Calculate the Sample Mean\n",
        "# The .mean() method computes the arithmetic average (sum of values / count of values).\n",
        "sample_mean = swim_times.mean()\n",
        "\n",
        "# b. Calculate the Sample Standard Deviation\n",
        "# The .std(ddof=1) method computes the sample standard deviation,\n",
        "# using Bessel's correction (dividing by n-1, where n=71).\n",
        "sample_std = swim_times.std(ddof=1)\n",
        "\n",
        "print(f\"Sample Mean: {sample_mean:.4f} seconds\")\n",
        "print(f\"Sample Standard Deviation: {sample_std:.4f} seconds\")"
      ],
      "metadata": {
        "colab": {
          "base_uri": "https://localhost:8080/"
        },
        "id": "oP4RIKkO-rh3",
        "outputId": "ccfa2444-e017-49d1-eee6-a57afd20400c"
      },
      "execution_count": null,
      "outputs": [
        {
          "output_type": "stream",
          "name": "stdout",
          "text": [
            "Sample Mean: 52.6476 seconds\n",
            "Sample Standard Deviation: 7.6560 seconds\n"
          ]
        }
      ]
    },
    {
      "cell_type": "markdown",
      "source": [
        "C. Comment on Anything Unusual That You See\n",
        "The most unusual observation is the existence of a single, extreme outlier at 112.72 seconds.\n",
        "\n",
        "1. The Anomaly and Context\n",
        "Observation: The vast majority of the 71 swim times are tightly clustered between 48.64 seconds and 62.45 seconds. The time of 112.72 seconds is separated by a massive gap from the rest of the data.\n",
        "\n",
        "Interpretation: This single outlier strongly relates to the problem's context: it almost certainly belongs to one of the athletes admitted under the special program who did not meet standard qualifying procedures, perhaps due to a technical error, an issue during the race, or a substantial difference in training level.\n",
        "\n",
        "2. Quantification of the Outlier's Effect\n",
        "The outlier's distance from the main data cluster causes it to severely inflate the measures of center and spread, making the Sample Standard Deviation misleading.\n",
        "\n",
        "To quantify this, we calculate the standard deviation with the outlier included, and then again with the outlier removed.\n",
        "\n",
        "Statistic\tValue (Including Outlier)\tValue (Excluding Outlier)\tEffect of Outlier\n",
        "Sample Mean (\n",
        "x\n",
        "ˉ\n",
        " )\t52.6476 s\t51.7894 s\tPulled up by ≈0.86 s\n",
        "Sample Std. Dev. (s)\t7.6560 s\t2.5331 s\tInflated by over 5 seconds\n",
        "\n",
        "Export to Sheets\n",
        "The standard deviation of 7.66 s is not representative of the spread among competitive Olympic swimmers; it is an artifact of the single data point at 112.72 s. The value of 2.53 s is a much better estimate of the typical variability within the main group.\n",
        "\n",
        "Python Code for Commenting (Quantifying the Anomaly)\n",
        "The code below first extracts the data, calculates the statistics for the full dataset, then calculates the statistics without the outlier (112.72 s) to support the analysis in section C."
      ],
      "metadata": {
        "id": "Ua55KIga_H5Z"
      }
    },
    {
      "cell_type": "code",
      "source": [
        "import pandas as pd\n",
        "\n",
        "# --- Corrected Data Extraction Code ---\n",
        "\n",
        "# Load the CSV file, keeping the header structure as is for index location.\n",
        "df = pd.read_csv(\"/content/HW01Data.csv\", header=None)\n",
        "\n",
        "# 1. FIND THE CORRECT COLUMN INDEX\n",
        "# The problem name 'EX 6.1.14' is in the first row (index 0).\n",
        "# We search this row to find the column index where the problem name is located.\n",
        "\n",
        "# Find the index of the column containing 'EX 6.1.14'\n",
        "# df.iloc[0] gives us the first row. We convert it to strings and search.\n",
        "problem_row = df.iloc[0].astype(str)\n",
        "column_index = problem_row[problem_row.str.contains(\"EX 6.1.14\", case=False, na=False)].index[0]\n",
        "\n",
        "# 2. EXTRACT THE DATA\n",
        "# The actual data for this problem starts on row 3 (index 2) in that column.\n",
        "swim_times_raw = df.iloc[2:, column_index]\n",
        "\n",
        "# 3. CLEAN AND CONVERT\n",
        "swim_times = pd.to_numeric(swim_times_raw.dropna())\n",
        "\n",
        "print(f\"Successfully found 'EX 6.1.14' in column index: {column_index}\")\n",
        "print(f\"Number of extracted swim times: {len(swim_times)}\")\n",
        "print(\"\\nFirst 5 extracted times:\")\n",
        "print(swim_times.head())"
      ],
      "metadata": {
        "colab": {
          "base_uri": "https://localhost:8080/"
        },
        "id": "qp94OqqA_4zE",
        "outputId": "051482ca-286a-44ae-fd3d-4b910c4ac3a3"
      },
      "execution_count": null,
      "outputs": [
        {
          "output_type": "stream",
          "name": "stdout",
          "text": [
            "Successfully found 'EX 6.1.14' in column index: 9\n",
            "Number of extracted swim times: 71\n",
            "\n",
            "First 5 extracted times:\n",
            "2    60.39\n",
            "3    49.93\n",
            "4    53.40\n",
            "5    51.82\n",
            "6    50.46\n",
            "Name: 9, dtype: float64\n"
          ]
        }
      ]
    },
    {
      "cell_type": "markdown",
      "source": [
        "**Ques: 6.2.5 .WP GO Tutorial . SS The following data are the numbers\n",
        "of cycles to failure of aluminum test coupons subjected to\n",
        "repeated alternating stress at 21,000 psi, 18 cycles per second.\n",
        "1115 865 1015 885 1594 1000 1416 1501\n",
        "1310 2130 845 1223 2023 1820 1560 1238\n",
        "1540 1421 1674 375 1315 1940 1055 990\n",
        "1502 1109 1016 2265 1269 1120 1764 1468\n",
        "1258 1481 1102 1910 1260 910 1330 1512\n",
        "1315 1567 1605 1018 1888 1730 1608 1750\n",
        "1085 1883 706 1452 1782 1102 1535 1642\n",
        "798 1203 2215 1890 1522 1578 1781\n",
        "1020 1270 785 2100 1792 758 1750\n",
        "Construct a stem-and-leaf display for these data. Calculate the\n",
        "median and quartiles of these data. Does it appear likely that a\n",
        "coupon will “survive” beyond 2000 cycles? Justify your answer.**"
      ],
      "metadata": {
        "id": "vTdsaRIyA4Lp"
      }
    },
    {
      "cell_type": "code",
      "source": [
        "import pandas as pd\n",
        "import numpy as np\n",
        "\n",
        "# Step 1: Read your CSV file\n",
        "file_path = \"/content/HW 01 Data.csv\"  # Use the corrected file path\n",
        "df = pd.read_csv(file_path, header=None)\n",
        "\n",
        "# Step 2: Locate the column containing \"EX 6.2.5\" in the first row\n",
        "# Ensure the first row is treated as strings for searching\n",
        "problem_row = df.iloc[0].astype(str)\n",
        "# Find the index of the column containing 'EX 6.2.5'\n",
        "try:\n",
        "    column_index = problem_row[problem_row.str.contains(\"EX 6.2.5\", case=False, na=False)].index[0]\n",
        "except IndexError:\n",
        "    print(\"Error: Could not find 'EX 6.2.5' in the first row of the CSV.\")\n",
        "    # Exit or handle the error appropriately if the problem name is not found\n",
        "    exit()\n",
        "\n",
        "\n",
        "# Step 3: Extract numeric data for that column, starting from row 3 (index 2)\n",
        "# The actual data for this problem starts on row 3 (index 2) in that column.\n",
        "cycles_raw = df.iloc[2:, column_index]\n",
        "\n",
        "# Clean and convert data to numeric, dropping any non-numeric or empty values\n",
        "cycles = pd.to_numeric(cycles_raw.dropna(), errors='coerce').dropna().values\n",
        "\n",
        "\n",
        "# Step 4: Compute median and quartiles\n",
        "median_val = np.median(cycles)\n",
        "q1 = np.percentile(cycles, 25)\n",
        "q3 = np.percentile(cycles, 75)\n",
        "\n",
        "print(\"--- Calculated Statistics ---\")\n",
        "print(f\"Median: {median_val}\")\n",
        "print(f\"Q1 (25th percentile): {q1}\")\n",
        "print(f\"Q3 (75th percentile): {q3}\")\n",
        "print(\"-\" * 30)\n",
        "\n",
        "\n",
        "# Step 5: Construct a simple stem-and-leaf display\n",
        "# Group by hundreds for stem\n",
        "print(\"\\nStem-and-Leaf Display:\")\n",
        "cycles_sorted = np.sort(cycles)\n",
        "stems = {}\n",
        "for val in cycles_sorted:\n",
        "    # Handle potential non-integer values after conversion if errors='coerce'\n",
        "    if pd.notna(val):\n",
        "        stem = int(val // 100)\n",
        "        leaf = int(val % 100)\n",
        "        stems.setdefault(stem, []).append(leaf)\n",
        "\n",
        "# Print stems and leaves\n",
        "# Sort stems for ordered display\n",
        "for stem in sorted(stems.keys()):\n",
        "    leaves = stems[stem]\n",
        "    # Optionally sort leaves within each stem for better readability\n",
        "    leaves_sorted = sorted(leaves)\n",
        "    leaf_str = ' '.join(f\"{leaf:02d}\" for leaf in leaves_sorted)\n",
        "    print(f\"{stem} | {leaf_str}\")\n",
        "\n",
        "\n",
        "# Step 6: Interpretation — will the coupon survive beyond 2000 cycles?\n",
        "survive_2000 = np.sum(cycles > 2000)\n",
        "prob_survive = survive_2000 / len(cycles) if len(cycles) > 0 else 0 # Avoid division by zero\n",
        "\n",
        "print(f\"\\n--- Survival Analysis ---\")\n",
        "print(f\"Total number of coupons: {len(cycles)}\")\n",
        "print(f\"Number of coupons > 2000 cycles: {survive_2000}\")\n",
        "print(f\"Proportion surviving beyond 2000 cycles: {prob_survive:.2%}\")\n",
        "\n",
        "if prob_survive > 0.5:\n",
        "    print(\"Based on the data, it appears likely that a coupon will survive beyond 2000 cycles.\")\n",
        "elif prob_survive > 0:\n",
        "     print(\"Based on the data, it appears unlikely but possible that a coupon will survive beyond 2000 cycles.\")\n",
        "else:\n",
        "    print(\"Based on the data, it appears very unlikely that a coupon will survive beyond 2000 cycles.\")\n",
        "print(\"-\" * 30)"
      ],
      "metadata": {
        "colab": {
          "base_uri": "https://localhost:8080/"
        },
        "id": "Sjob68rKBAZe",
        "outputId": "97809557-9966-496a-b65c-ca11dc0d7ae3"
      },
      "execution_count": null,
      "outputs": [
        {
          "output_type": "stream",
          "name": "stdout",
          "text": [
            "--- Calculated Statistics ---\n",
            "Median: 1436.5\n",
            "Q1 (25th percentile): 1102.0\n",
            "Q3 (75th percentile): 1716.0\n",
            "------------------------------\n",
            "\n",
            "Stem-and-Leaf Display:\n",
            "3 | 75\n",
            "7 | 06 58 85 98\n",
            "8 | 45 65 85\n",
            "9 | 10 90\n",
            "10 | 00 15 16 18 20 55 85\n",
            "11 | 02 02 09 15 20\n",
            "12 | 03 23 38 58 60 69 70\n",
            "13 | 10 15 15 30\n",
            "14 | 16 21 52 68 81\n",
            "15 | 01 02 12 22 35 40 60 67 78 94\n",
            "16 | 05 08 42 74\n",
            "17 | 30 50 50 64 81 82 92\n",
            "18 | 20 83 88 90\n",
            "19 | 10 40\n",
            "20 | 23\n",
            "21 | 00 30\n",
            "22 | 15 65\n",
            "\n",
            "--- Survival Analysis ---\n",
            "Total number of coupons: 70\n",
            "Number of coupons > 2000 cycles: 5\n",
            "Proportion surviving beyond 2000 cycles: 7.14%\n",
            "Based on the data, it appears unlikely but possible that a coupon will survive beyond 2000 cycles.\n",
            "------------------------------\n"
          ]
        }
      ]
    },
    {
      "cell_type": "markdown",
      "source": [
        "No, it does not appear likely that a coupon will survive beyond 2000 cycles.\n",
        "\n",
        "Justification:\n",
        "Low Count and Percentage: Out of the total 70 test coupons, only 5 coupons survived beyond 2000 cycles (2023,2100,2130,2215,2265). This represents a survival rate of only 7.14%.\n",
        "\n",
        "Distribution Skew: The stem-and-leaf plot shows the data is highly concentrated in the 1000-cycle to 1800-cycle range. The distribution is clearly right-skewed, meaning most of the failures occurred relatively early. The majority of coupons (65 out of 70) failed well before reaching the 2000-cycle threshold.\n",
        "\n",
        "The low survival count and the clear skew of the data indicate that a randomly selected coupon has a small probability of lasting beyond 2000 cycles under these specific stress conditions."
      ],
      "metadata": {
        "id": "awpsvCSB0Bmh"
      }
    },
    {
      "cell_type": "markdown",
      "source": [
        "1. Construct a Stem-and-Leaf Display\n",
        "The stem-and-leaf plot uses the hundreds and thousands digit as the stem and the tens and units digit (rounded/truncated) as the leaf. Since the data is in the thousands, we will use the first two digits (or the thousands digit for the stem).\n",
        "\n",
        "Stem: Thousands digit (multiplied by 1000 cycles)\n",
        "Leaf: Hundreds, Tens, and Units digits (multiplied by 1 cycle, but grouped by the hundreds digit)\n",
        "\n",
        "Stem (1000s)\tLeaves\n",
        "0\t375,706,758,785,798\n",
        "0\t845,865,885,910,990\n",
        "10\t00,15,16,18,20,55,85\n",
        "11\t02,02,09,15,20\n",
        "12\t03,23,38,58,60,69,70\n",
        "13\t10,15,15,30\n",
        "14\t16,21,52,68,81\n",
        "15\t01,02,12,22,35,40,60,67,78,94\n",
        "16\t05,08,42,74\n",
        "17\t30,50,50,64,81,82,92\n",
        "18\t20,83,88,90\n",
        "19\t10,40\n",
        "20\t23\n",
        "21\t00,30\n",
        "22\t15,65\n",
        "\n",
        "Export to Sheets\n",
        "Note: The stems are essentially the numbers before the last three digits. For instance, the first two stems represent 0−999 cycles, then 1000−1199 cycles, and so on.\n",
        "\n",
        "2. Calculate the Median and Quartiles\n",
        "With n=70 data points:\n",
        "\n",
        "Median (Q\n",
        "2\n",
        "​\n",
        " ): The average of the 35\n",
        "th\n",
        "  and 36\n",
        "th\n",
        "  values.\n",
        "\n",
        "Median=\n",
        "2\n",
        "1421+1452\n",
        "​\n",
        " =1436.5 cycles\n",
        "First Quartile (Q\n",
        "1\n",
        "​\n",
        " ): The median of the lower half (the 18\n",
        "th\n",
        "  position).\n",
        "\n",
        "Q\n",
        "1\n",
        "​\n",
        " =1102.0 cycles\n",
        "Third Quartile (Q\n",
        "3\n",
        "​\n",
        " ): The median of the upper half (the 53\n",
        "rd\n",
        "  position).\n",
        "\n",
        "Q\n",
        "3\n",
        "​\n",
        " =1716.0 cycles\n",
        "3. Does it appear likely that a coupon will \"survive\" beyond 2000 cycles? Justify your answer.\n",
        "No, it does not appear likely that a coupon will survive beyond 2000 cycles.\n",
        "\n",
        "Justification:\n",
        "Low Count and Percentage: Out of the total 70 test coupons, only 5 coupons survived beyond 2000 cycles (2023,2100,2130,2215,2265). This represents a survival rate of only 7.14%.\n",
        "\n",
        "Distribution Skew: The stem-and-leaf plot shows the data is highly concentrated in the 1000-cycle to 1800-cycle range. The distribution is clearly right-skewed, meaning most of the failures occurred relatively early. The majority of coupons (65 out of 70) failed well before reaching the 2000-cycle threshold.\n",
        "\n",
        "The low survival count and the clear skew of the data indicate that a randomly selected coupon has a small probability of lasting beyond 2000 cycles under these specific stress conditions."
      ],
      "metadata": {
        "id": "DKipNAfO1DL5"
      }
    },
    {
      "cell_type": "code",
      "source": [
        "import pandas as pd\n",
        "\n",
        "# --- Data Extraction (for Problem EX 6.1.14) ---\n",
        "# Load the CSV file.\n",
        "df = pd.read_csv(\"/content/HW01Data.csv\", header=None)\n",
        "\n",
        "# Find the column index for 'EX 6.1.14' in the first row.\n",
        "problem_row = df.iloc[0].astype(str)\n",
        "column_index = problem_row[problem_row.str.contains(\"EX 6.1.14\", case=False, na=False)].index[0]\n",
        "\n",
        "# Extract the data (starts at row index 2) and clean it.\n",
        "swim_times_raw = df.iloc[2:, column_index]\n",
        "swim_times = pd.to_numeric(swim_times_raw.dropna()) # The full 71 data points\n",
        "\n",
        "# --- Statistical Analysis for Comment C ---\n",
        "\n",
        "# 1. Statistics for the full dataset (WITH outlier)\n",
        "mean_full = swim_times.mean()\n",
        "std_full = swim_times.std(ddof=1)\n",
        "\n",
        "# 2. Statistics for the dataset WITHOUT the outlier (112.72 is the only value > 100)\n",
        "times_no_outlier = swim_times[swim_times < 100]\n",
        "\n",
        "# 3. Calculate mean and standard deviation for the reduced dataset\n",
        "mean_no_outlier = times_no_outlier.mean()\n",
        "std_no_outlier = times_no_outlier.std(ddof=1)\n",
        "\n",
        "print(\"--- Comparison of Statistics (Justification for Comment C) ---\")\n",
        "print(\"Full Dataset (With Outlier):\")\n",
        "print(f\"  Mean: {mean_full:.4f} s\")\n",
        "print(f\"  Std. Dev.: {std_full:.4f} s\")\n",
        "print(\"-\" * 25)\n",
        "print(\"Reduced Dataset (Without Outlier):\")\n",
        "print(f\"  Mean: {mean_no_outlier:.4f} s\")\n",
        "print(f\"  Std. Dev.: {std_no_outlier:.4f} s\")"
      ],
      "metadata": {
        "colab": {
          "base_uri": "https://localhost:8080/"
        },
        "id": "pdtSP_HuzGCJ",
        "outputId": "4c1ff24a-a527-4c07-d065-1d6fcf951db9"
      },
      "execution_count": null,
      "outputs": [
        {
          "output_type": "stream",
          "name": "stdout",
          "text": [
            "--- Comparison of Statistics (Justification for Comment C) ---\n",
            "Full Dataset (With Outlier):\n",
            "  Mean: 52.6476 s\n",
            "  Std. Dev.: 7.6560 s\n",
            "-------------------------\n",
            "Reduced Dataset (Without Outlier):\n",
            "  Mean: 51.7894 s\n",
            "  Std. Dev.: 2.5331 s\n"
          ]
        }
      ]
    },
    {
      "cell_type": "markdown",
      "source": [
        "**6.2.7 Calculate the sample median, mode, and mean of the data\n",
        "in Exercise 6.2.5. Explain how these three measures of location\n",
        "describe different features in the data.**"
      ],
      "metadata": {
        "id": "HdcWUZr61e6W"
      }
    },
    {
      "cell_type": "markdown",
      "source": [
        "The sample mean, median, and mode for the aluminum test coupon failure data (from Exercise 6.2.5) have been calculated.\n",
        "\n",
        "Here are the results and an explanation of how these three measures of location describe different features of the data.\n",
        "\n",
        "Calculated Measures of Location\n",
        "Statistic\tCalculated Value (cycles)\n",
        "Sample Mean (\n",
        "x\n",
        "ˉ\n",
        " )\t1403.6571\n",
        "Sample Median (Q\n",
        "2\n",
        "​\n",
        " )\t1436.5\n",
        "Sample Mode\t1102,1315,1750\n",
        "\n",
        "Export to Sheets\n",
        "Note: This dataset has three modes, meaning the values 1102, 1315, and 1750 cycles each appear the same number of times and more frequently than any other single value.\n",
        "\n",
        "Explanation of Measures\n",
        "These three measures describe the data's center differently, which is especially important for skewed distributions (like this failure time data).\n",
        "\n",
        "1. Sample Mean (1403.66 cycles)\n",
        "Feature Described: The average value. The mean is the mathematical balance point of the distribution.\n",
        "\n",
        "Interpretation: If you were to distribute the total cycles endured equally among all 70 coupons, each would last 1403.66 cycles.\n",
        "\n",
        "Limitation: The mean is highly sensitive to the values on the tails of the distribution. Because this data is right-skewed (meaning there are more low values and a few high values), the mean is pulled slightly to the left (downwards) compared to the median.\n",
        "\n",
        "2. Sample Median (1436.5 cycles)\n",
        "Feature Described: The center position. The median is the value that splits the data into two equal halves.\n",
        "\n",
        "Interpretation: 50% of the coupons failed at or below 1436.5 cycles, and 50% failed at or above 1436.5 cycles.\n",
        "\n",
        "Strength: The median is resistant to outliers and skewness. It provides a reliable measure of the typical \"middle\" coupon, independent of how far the extreme early or late failure times are.\n",
        "\n",
        "3. Sample Mode (1102,1315,1750 cycles)\n",
        "Feature Described: The most common value(s). The mode describes where the highest concentration of data occurs.\n",
        "\n",
        "Interpretation: The failure times 1102, 1315, and 1750 cycles occurred most frequently in this sample.\n",
        "\n",
        "Insight: When a dataset has multiple modes, it often suggests that the data may be composed of sub-populations or that different mechanisms (or batches of coupons) are leading to failure at different, common times. For instance, 1102 could be an early common failure time, while 1750 could be a late common failure time."
      ],
      "metadata": {
        "id": "KMk86GLC2RlM"
      }
    },
    {
      "cell_type": "code",
      "source": [
        "import pandas as pd\n",
        "import numpy as np\n",
        "\n",
        "# Load the CSV file. We use header=None because of the messy header structure.\n",
        "df = pd.read_csv(\"/content/HW01Data.csv\", header=None)\n",
        "\n",
        "# 1. Find the column index for 'EX 6.2.5'\n",
        "# The problem name is in the first row (index 0)\n",
        "problem_row = df.iloc[0].astype(str)\n",
        "\n",
        "# Find the index of the column containing 'EX 6.2.5'\n",
        "try:\n",
        "    column_index = problem_row[problem_row.str.contains(\"EX 6.2.5\", case=False, na=False)].index[0]\n",
        "except IndexError:\n",
        "    # Fallback if exact search fails, this part ensures the data is located\n",
        "    matching_indices = problem_row[problem_row.str.contains(\"EX 6.2.5\", case=False, na=False)].index.tolist()\n",
        "    if matching_indices:\n",
        "        column_index = matching_indices[0]\n",
        "    else:\n",
        "        # Based on prior runs, the index is usually 11\n",
        "        column_index = 11\n",
        "\n",
        "# 2. Extract the data (starts at row index 2)\n",
        "cycles_raw = df.iloc[2:, column_index]\n",
        "\n",
        "# 3. Clean and convert to numeric\n",
        "cycles = pd.to_numeric(cycles_raw.dropna())\n",
        "\n",
        "# --- Calculation of Sample Mean, Median, and Mode ---\n",
        "\n",
        "# Sample Mean (Average): sum of values / count of values\n",
        "sample_mean = cycles.mean()\n",
        "\n",
        "# Sample Median (50th Percentile): middle value when data is ordered\n",
        "sample_median = cycles.median()\n",
        "\n",
        "# Sample Mode (Most Frequent Value(s)): returns a series if multiple modes exist\n",
        "sample_mode = cycles.mode()\n",
        "\n",
        "print(\"--- Calculated Measures of Location ---\")\n",
        "print(f\"Sample Mean: {sample_mean:.4f} cycles\")\n",
        "print(f\"Sample Median: {sample_median:.1f} cycles\")\n",
        "print(\"Sample Mode(s):\")\n",
        "print(sample_mode.to_string(index=False))"
      ],
      "metadata": {
        "colab": {
          "base_uri": "https://localhost:8080/"
        },
        "id": "4yf8HZRP2TOn",
        "outputId": "99d5783c-8de3-4ba7-babf-55bdb568f803"
      },
      "execution_count": null,
      "outputs": [
        {
          "output_type": "stream",
          "name": "stdout",
          "text": [
            "--- Calculated Measures of Location ---\n",
            "Sample Mean: 1403.6571 cycles\n",
            "Sample Median: 1436.5 cycles\n",
            "Sample Mode(s):\n",
            "1102\n",
            "1315\n",
            "1750\n"
          ]
        }
      ]
    },
    {
      "cell_type": "markdown",
      "source": [],
      "metadata": {
        "id": "fMU0J3oe2ap2"
      }
    },
    {
      "cell_type": "code",
      "source": [
        "import pandas as pd\n",
        "import numpy as np\n",
        "from statistics import mode, StatisticsError\n",
        "\n",
        "# Step 1: Load the file\n",
        "file_path = \"/content/HW01Data.csv\" # Correct file path\n",
        "df = pd.read_csv(file_path, header=None)\n",
        "\n",
        "# Step 2: Locate the column containing \"EX 6.2.5\" in the FIRST ROW\n",
        "# Ensure the first row is treated as strings for searching\n",
        "problem_row = df.iloc[0].astype(str)\n",
        "\n",
        "# Find the index of the column containing 'EX 6.2.5'\n",
        "try:\n",
        "    # Search the first row for the problem name\n",
        "    column_index = problem_row[problem_row.str.contains(\"EX 6.2.5\", case=False, na=False)].index[0]\n",
        "except IndexError:\n",
        "    print(\"Error: Could not find 'EX 6.2.5' in the first row of the CSV.\")\n",
        "    # Exit or handle the error appropriately if the problem name is not found\n",
        "    exit()\n",
        "\n",
        "\n",
        "# Step 3: Extract numeric data for that column, starting from row 3 (index 2)\n",
        "# The actual data for this problem starts on row 3 (index 2) in that column.\n",
        "cycles_raw = df.iloc[2:, column_index]\n",
        "\n",
        "# Clean and convert data to numeric, dropping any non-numeric or empty values\n",
        "cycles = pd.to_numeric(cycles_raw.dropna(), errors='coerce').dropna().values\n",
        "\n",
        "\n",
        "# Step 4: Calculate statistics\n",
        "mean_value = np.mean(cycles)\n",
        "median_value = np.median(cycles)\n",
        "try:\n",
        "    # Use numpy's mode which handles multiple modes\n",
        "    mode_result = pd.Series(cycles).mode()\n",
        "    if not mode_result.empty:\n",
        "         mode_value = mode_result.tolist()\n",
        "    else:\n",
        "         mode_value = \"No unique mode\"\n",
        "except Exception: # Catch any other potential errors with mode calculation\n",
        "    mode_value = \"Mode calculation error\"\n",
        "\n",
        "\n",
        "# Step 5: Print results\n",
        "print(\"Exercise 6.2.5 Results\")\n",
        "print(\"----------------------\")\n",
        "print(f\"Sample Mean   = {mean_value:.2f}\")\n",
        "print(f\"Sample Median = {median_value:.2f}\")\n",
        "print(f\"Sample Mode   = {mode_value}\")\n",
        "\n",
        "# Step 6: Explanation\n",
        "print(\"\\nInterpretation:\")\n",
        "print(\"- The mean represents the average number of cycles to failure.\")\n",
        "print(\"- The median shows the central tendency and is less affected by extreme values.\")\n",
        "print(\"- The mode identifies the most frequently occurring failure cycle(s).\")"
      ],
      "metadata": {
        "colab": {
          "base_uri": "https://localhost:8080/"
        },
        "id": "5CL4NI1x2diC",
        "outputId": "3992e950-69c2-4fa6-9bb5-da08b2596277"
      },
      "execution_count": null,
      "outputs": [
        {
          "output_type": "stream",
          "name": "stdout",
          "text": [
            "Exercise 6.2.5 Results\n",
            "----------------------\n",
            "Sample Mean   = 1403.66\n",
            "Sample Median = 1436.50\n",
            "Sample Mode   = [1102, 1315, 1750]\n",
            "\n",
            "Interpretation:\n",
            "- The mean represents the average number of cycles to failure.\n",
            "- The median shows the central tendency and is less affected by extreme values.\n",
            "- The mode identifies the most frequently occurring failure cycle(s).\n"
          ]
        }
      ]
    },
    {
      "cell_type": "markdown",
      "source": [
        "6.2.8 .WP The female students in an undergraduate engineering\n",
        "core course at ASU self-reported their heights to the nearest inch.\n",
        "The data follow. Construct a stem-and-leaf diagram for the height\n",
        "data and comment on any important features that you notice. Calculate the sample mean, the sample standard deviation, and the\n",
        "sample median of height.\n",
        "\n",
        "62 64 61 67 65 68 61 65 60 65 64 63 59\n",
        "68 64 66 68 69 65 67 62 66 68 67 66 65\n",
        "69 65 69 65 67 67 65 63 64 67 65"
      ],
      "metadata": {
        "id": "_xUwi2bc26XR"
      }
    },
    {
      "cell_type": "code",
      "source": [
        "import pandas as pd\n",
        "import numpy as np\n",
        "\n",
        "# Load the CSV file.\n",
        "df = pd.read_csv(\"/content/HW01Data.csv\", header=None)\n",
        "\n",
        "# 1. Find the column index for 'EX 6.2.8'\n",
        "problem_row = df.iloc[0].astype(str)\n",
        "column_index = problem_row[problem_row.str.contains(\"EX 6.2.8\", case=False, na=False)].index[0]\n",
        "\n",
        "# 2. Extract the data (starts at row index 2)\n",
        "heights_raw = df.iloc[2:, column_index]\n",
        "\n",
        "# 3. Clean and convert to numeric\n",
        "heights = pd.to_numeric(heights_raw.dropna())\n",
        "\n",
        "# --- Calculation of Sample Mean, Standard Deviation, and Median ---\n",
        "\n",
        "# Sample Mean\n",
        "sample_mean = heights.mean()\n",
        "\n",
        "# Sample Standard Deviation (ddof=1 for sample calculation, n-1)\n",
        "sample_std = heights.std(ddof=1)\n",
        "\n",
        "# Sample Median\n",
        "sample_median = heights.median()\n",
        "\n",
        "# Print results\n",
        "print(f\"Sample Mean (Height): {sample_mean:.4f} inches\")\n",
        "print(f\"Sample Standard Deviation (Height): {sample_std:.4f} inches\")\n",
        "print(f\"Sample Median (Height): {sample_median:.1f} inches\")"
      ],
      "metadata": {
        "colab": {
          "base_uri": "https://localhost:8080/"
        },
        "id": "x0M8kBoc2_SE",
        "outputId": "e449ad38-5235-4632-cd58-c637840c6ab9"
      },
      "execution_count": null,
      "outputs": [
        {
          "output_type": "stream",
          "name": "stdout",
          "text": [
            "Sample Mean (Height): 65.8108 inches\n",
            "Sample Standard Deviation (Height): 2.1060 inches\n",
            "Sample Median (Height): 66.0 inches\n"
          ]
        }
      ]
    },
    {
      "cell_type": "code",
      "source": [
        "import pandas as pd\n",
        "import numpy as np\n",
        "\n",
        "# Step 1: Load the dataset\n",
        "file_path = \"/content/HW01Data.csv\"\n",
        "df = pd.read_csv(file_path, header=None)\n",
        "\n",
        "# Step 2: Find the column index containing 'EX 6.2.8' in the FIRST ROW\n",
        "problem_row = df.iloc[0].astype(str)\n",
        "\n",
        "# Find the index of the column containing 'EX 6.2.8'\n",
        "try:\n",
        "    column_index = problem_row[problem_row.str.contains(\"EX 6.2.8\", case=False, na=False)].index[0]\n",
        "except IndexError:\n",
        "    print(\"Error: Could not find 'EX 6.2.8' in the first row of the CSV.\")\n",
        "    # Exit or handle the error appropriately if the problem name is not found\n",
        "    exit()\n",
        "\n",
        "\n",
        "# Step 3: Extract numeric data for that column, starting from row 3 (index 2)\n",
        "# The actual data for this problem starts on row 3 (index 2) in that column.\n",
        "heights_raw = df.iloc[2:, column_index]\n",
        "\n",
        "# Clean and convert data to numeric, dropping any non-numeric or empty values\n",
        "heights = pd.to_numeric(heights_raw.dropna(), errors='coerce').dropna().values\n",
        "\n",
        "\n",
        "# Step 4: Calculate statistics\n",
        "mean_value = np.mean(heights)\n",
        "std_dev = np.std(heights, ddof=1)   # sample standard deviation\n",
        "median_value = np.median(heights)\n",
        "\n",
        "# Step 5: Display results\n",
        "print(\"Exercise 6.2.8 Results\")\n",
        "print(\"----------------------\")\n",
        "print(f\"Sample Mean               = {mean_value:.2f}\")\n",
        "print(f\"Sample Standard Deviation = {std_dev:.2f}\")\n",
        "print(f\"Sample Median             = {median_value:.2f}\")\n",
        "\n",
        "# Step 6: Interpretation\n",
        "print(\"\\nInterpretation:\")\n",
        "print(\"- The mean gives the average reported height.\")\n",
        "print(\"- The standard deviation measures how spread out the heights are.\")\n",
        "print(\"- The median shows the midpoint height — half the students are shorter, and half are taller.\")"
      ],
      "metadata": {
        "colab": {
          "base_uri": "https://localhost:8080/"
        },
        "id": "g25rpKtQ4pKX",
        "outputId": "eca5324f-a76f-41dd-bd95-88ad99885a5e"
      },
      "execution_count": null,
      "outputs": [
        {
          "output_type": "stream",
          "name": "stdout",
          "text": [
            "Exercise 6.2.8 Results\n",
            "----------------------\n",
            "Sample Mean               = 65.81\n",
            "Sample Standard Deviation = 2.11\n",
            "Sample Median             = 66.00\n",
            "\n",
            "Interpretation:\n",
            "- The mean gives the average reported height.\n",
            "- The standard deviation measures how spread out the heights are.\n",
            "- The median shows the midpoint height — half the students are shorter, and half are taller.\n"
          ]
        }
      ]
    }
  ]
}