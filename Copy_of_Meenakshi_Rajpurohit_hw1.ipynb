{
  "nbformat": 4,
  "nbformat_minor": 0,
  "metadata": {
    "colab": {
      "provenance": [],
      "authorship_tag": "ABX9TyNxJ00IgAbNpShz3UbHcWNu",
      "include_colab_link": true
    },
    "kernelspec": {
      "name": "python3",
      "display_name": "Python 3"
    },
    "language_info": {
      "name": "python"
    }
  },
  "cells": [
    {
      "cell_type": "markdown",
      "metadata": {
        "id": "view-in-github",
        "colab_type": "text"
      },
      "source": [
        "<a href=\"https://colab.research.google.com/github/MeenakshiRajpurohit/ISE-201-Math-Foundations-for-Decision-Data-Sciences/blob/main/Copy_of_Meenakshi_Rajpurohit_hw1.ipynb\" target=\"_parent\"><img src=\"https://colab.research.google.com/assets/colab-badge.svg\" alt=\"Open In Colab\"/></a>"
      ]
    },
    {
      "cell_type": "markdown",
      "source": [
        "\n",
        "**Student Name:** Meenakshi Rajpurohit  \n",
        "**Student ID:** 019156514\n"
      ],
      "metadata": {
        "id": "vylTcJMSc4KU"
      }
    },
    {
      "cell_type": "markdown",
      "source": [
        "**6.1.4 For any set of data values, is it possible for the sample standard deviation to be larger than the sample mean? If so, give an example.**\n",
        "\n",
        "Ans: Yes, it is possible for the sample standard deviation to be larger than the sample mean.\n",
        "\n",
        "The sample mean ($\\bar{x}$) and the sample standard deviation ($s$) measure fundamentally different properties of a dataset and are not mathematically constrained by each other.\n",
        "\n",
        "* The Sample Mean ($\\bar{x}$) measures the central tendency.\n",
        "* The Sample Standard Deviation ($s$) measures the dispersion or spread of the data around the mean.\n",
        "\n",
        "A small mean and a large standard deviation simply indicate that the data is very spread out around a center point that is close to zero.\n",
        "\n",
        "\n",
        "### Example 1\n",
        "\n",
        "Consider the following small dataset, $X$, which contains non-negative integers:\n",
        "\n",
        "$$\n",
        "X = \\{1, 2, 3, 10, 14\\}\n",
        "$$\n",
        "\n",
        "#### 1. Calculate the Sample Mean ($\\bar{x}$)\n",
        "\n",
        "The mean is the sum of the values divided by the count ($n=5$):\n",
        "\n",
        "$$\n",
        "\\bar{x} = \\frac{1 + 2 + 3 + 10 + 14}{5} = \\frac{30}{5} = \\mathbf{6}\n",
        "$$\n",
        "\n",
        "#### 2. Calculate the Sample Standard Deviation ($s$)\n",
        "\n",
        "The standard deviation is the square root of the variance. For a sample, the variance ($s^2$) is calculated as:\n",
        "\n",
        "$$\n",
        "s^2 = \\frac{\\sum (x_i - \\bar{x})^2}{n-1}\n",
        "$$\n",
        "\n",
        "| $x_i$ | $(x_i - \\bar{x})$ | $(x_i - \\bar{x})^2$ |\n",
        "| :---: | :---: | :---: |\n",
        "| 1 | $1 - 6 = -5$ | 25 |\n",
        "| 2 | $2 - 6 = -4$ | 16 |\n",
        "| 3 | $3 - 6 = -3$ | 9 |\n",
        "| 10 | $10 - 6 = 4$ | 16 |\n",
        "| 14 | $14 - 6 = 8$ | 64 |\n",
        "| **Sum** | | **130** |\n",
        "\n",
        "Now, calculate $s$:\n",
        "$$\n",
        "s = \\sqrt{\\frac{130}{5-1}} = \\sqrt{\\frac{130}{4}} = \\sqrt{32.5} \\approx \\mathbf{5.70}\n",
        "$$\n",
        "\n",
        "#### Conclusion\n",
        "\n",
        "Comparing the two results:\n",
        "\n",
        "| Statistic | Value |\n",
        "| :---: | :---: |\n",
        "| Sample Mean ($\\bar{x}$) | 6 |\n",
        "| Sample Standard Deviation ($s$) | 5.70 |\n",
        "\n",
        "In this case, the sample mean 6 is slightly larger than the sample standard deviation 5.70. However, the values are very close.\n",
        "\n",
        "\n",
        "\n",
        "### Example 2\n",
        "\n",
        "To make the standard deviation clearly larger than the mean, we can simply shift the data closer to zero while keeping the spread large. We will use a dataset with smaller values that are still very spread out.\n",
        "\n",
        "$$\n",
        "Y = \\{0, 0, 1, 19\\}\n",
        "$$\n",
        "(Here, $n=4$).\n",
        "\n",
        "#### 1. Calculate the Sample Mean ($\\bar{y}$)\n",
        "\n",
        "$$\n",
        "\\bar{y} = \\frac{0 + 0 + 1 + 19}{4} = \\frac{20}{4} = \\mathbf{5}\n",
        "$$\n",
        "\n",
        "#### 2. Calculate the Sample Standard Deviation ($s$)\n",
        "\n",
        "| $y_i$ | $(y_i - \\bar{y})$ | $(y_i - \\bar{y})^2$ |\n",
        "| :---: | :---: | :---: |\n",
        "| 0 | $0 - 5 = -5$ | 25 |\n",
        "| 0 | $0 - 5 = -5$ | 25 |\n",
        "| 1 | $1 - 5 = -4$ | 16 |\n",
        "| 19 | $19 - 5 = 14$ | 196 |\n",
        "| **Sum** | | **262** |\n",
        "\n",
        "Now, calculate $s$:\n",
        "$$\n",
        "s = \\sqrt{\\frac{262}{4-1}} = \\sqrt{\\frac{262}{3}} = \\sqrt{87.33} \\approx \\mathbf{9.35}\n",
        "$$\n",
        "\n",
        "#### Conclusion\n",
        "\n",
        "Comparing the two results:\n",
        "\n",
        "| Statistic | Value |\n",
        "| :---: | :---: |\n",
        "| Sample Mean ($\\bar{y}$) | 5.00 |\n",
        "| Sample Standard Deviation ($s$) | 9.35 |\n",
        "\n",
        "In this clear example, the sample standard deviation 9.35 is significantly larger than the sample mean 5.00. This occurs because the mean is small (due to the inclusion of zeros and ones), but the large value of 19 creates extreme dispersion, resulting in a high standard deviation."
      ],
      "metadata": {
        "id": "jbBHG0NPjY5v"
      }
    },
    {
      "cell_type": "markdown",
      "source": [
        "**6.1.5 Can the sample standard deviation be equal to zero? If so,\n",
        "give an example.**\n",
        "\n",
        "Ans: Yes, the sample standard deviation can be equal to zero.\n",
        "\n",
        "The standard deviation measures the dispersion (spread) of data points around the mean. If the standard deviation is zero, it means there is no spread in the data—every single data point is exactly equal to the sample mean.\n",
        "\n",
        "\n",
        "Example\n",
        "\n",
        "Consider the following dataset, $X$, where all values are the same:\n",
        "\n",
        "$$\n",
        "X = \\{5, 5, 5, 5\\}\n",
        "$$\n",
        "\n",
        " 1. Calculate the Sample Mean ($\\bar{x}$)\n",
        "\n",
        "The mean is the sum of the values divided by the count ($n=4$):\n",
        "\n",
        "$$\n",
        "\\bar{x} = \\frac{5 + 5 + 5 + 5}{4} = \\frac{20}{4} = 5\n",
        "$$\n",
        "\n",
        "2. Calculate the Sample Standard Deviation ($s$)\n",
        "\n",
        "The standard deviation is the square root of the variance ($s^2$).\n",
        "$$\n",
        "s = \\sqrt{\\frac{\\sum (x_i - \\bar{x})^2}{n-1}}\n",
        "$$\n",
        "\n",
        "First, we calculate the squared differences from the mean:\n",
        "\n",
        "| $x_i$ | $(x_i - \\bar{x})$ | $(x_i - \\bar{x})^2$ |\n",
        "| :---: | :---: | :---: |\n",
        "| 5 | $5 - 5 = 0$ | 0 |\n",
        "| 5 | $5 - 5 = 0$ | 0 |\n",
        "| 5 | $5 - 5 = 0$ | 0 |\n",
        "| 5 | $5 - 5 = 0$ | 0 |\n",
        "| **Sum** | | **0** |\n",
        "\n",
        "Now, we compute the standard deviation:\n",
        "\n",
        "$$\n",
        "s = \\sqrt{\\frac{0}{4-1}} = \\sqrt{\\frac{0}{3}} = \\sqrt{0} = \\mathbf{0}\n",
        "$$\n",
        "\n",
        "Since the variance (the numerator) is the sum of the squared deviations, if every deviation is zero, the sum is zero, and thus the standard deviation is zero. This will always be the case for any dataset where all the data values are identical."
      ],
      "metadata": {
        "id": "_QPUUW4kkxQ9"
      }
    },
    {
      "cell_type": "markdown",
      "source": [
        "**6.1.14 In the 2000 Sydney Olympics, a special program initiated by the IOC president allowed developing countries to send\n",
        "athletes to the Olympics without the usual qualifying procedure.\n",
        "Here are the 71 times for the first round of the 100-meter men’s\n",
        "swim (in seconds).**\n",
        "\n",
        "\n",
        "**60.39 49.93 53.40 51.82 50.46 51.34 50.28 50.19 52.14\n",
        "50.56 52.72 50.95 49.74 49.16 52.57 52.53 52.09 52.40\n",
        "49.75 54.06 53.50 50.63 51.93 51.62 52.58 53.55 51.07\n",
        "49.76 49.73 50.90 59.26 49.29 52.78 112.72 49.79 49.83\n",
        "52.43 51.28 52.22 49.76 49.70 52.90 50.19 54.33 62.45\n",
        "51.93 52.24 52.82 50.96 48.64 51.11 50.87 52.18 54.12\n",
        "50.49 49.84 52.91 52.52 50.32 51.52 52.0 52.85 52.24\n",
        "49.45 51.28 49.09 58.79 49.74 49.32 50.62 49.45**\n",
        "\n",
        "\n",
        "**a. Find the sample mean and sample standard deviation\n",
        "of these 100-meter swim times.\n",
        "b. Construct a dot diagram of the data.\n",
        "c. Comment on anything unusual that you see.**"
      ],
      "metadata": {
        "id": "J9X-g9hSlhx3"
      }
    },
    {
      "cell_type": "code",
      "source": [
        "import pandas as pd\n",
        "\n",
        "df = pd.read_csv('/content/HW-01-Data.csv', header=None)\n",
        "\n",
        "swim_times_raw = df.iloc[2:, 9] #data is at 10th column(index 9) from 3rd row (index 2).\n",
        "\n",
        "swim_times = pd.to_numeric(swim_times_raw.dropna()) #claen data\n",
        "\n",
        "sample_mean = swim_times.mean()\n",
        "\n",
        "sample_std = swim_times.std(ddof=1) #ddof = delta degree of freedom parameter\n",
        "\n",
        "print(f'Sample Mean: {sample_mean:.4f} seconds')\n",
        "print(f'Sample Standrad Deviation: {sample_std:.4f} seconds')"
      ],
      "metadata": {
        "colab": {
          "base_uri": "https://localhost:8080/"
        },
        "id": "NYgDRGjUH6ih",
        "outputId": "03d48015-14f9-4c6f-81c9-dde9a305ab71"
      },
      "execution_count": null,
      "outputs": [
        {
          "output_type": "stream",
          "name": "stdout",
          "text": [
            "Sample Mean: 52.6476 seconds\n",
            "Sample Standrad Deviation: 7.6560 seconds\n"
          ]
        }
      ]
    },
    {
      "cell_type": "code",
      "source": [
        "import numpy as np\n",
        "import matplotlib.pyplot as plt\n",
        "import seaborn as sns\n",
        "\n",
        "df_plot = pd.DataFrame({'Time(s)': swim_times, 'Category': 'Times'})\n",
        "\n",
        "plt.figure(figsize=(12,5))\n",
        "\n",
        "sns.swarmplot(x='Time(s)', y = 'Category', data=df_plot, alpha=0.8, size=6, color='darkgreen', edgecolor='gray', linewidth=0.5 )\n",
        "\n",
        "plt.axvline(sample_mean, color='red', linestyle = '--', label=f'Mean: {sample_mean:.2f}s')\n",
        "\n",
        "plt.title('Dot Plot (Swarmplot) of 100m Swim Times', fontsize=14)\n",
        "plt.xlabel('Time (seconds)', fontsize=12)\n",
        "plt.ylabel('')\n",
        "plt.yticks([])\n",
        "plt.legend()\n",
        "plt.grid(axis='x', linestyle=':', alpha=0.6)\n",
        "\n",
        "plt.show()\n"
      ],
      "metadata": {
        "colab": {
          "base_uri": "https://localhost:8080/",
          "height": 548
        },
        "id": "GouGfWphNZsX",
        "outputId": "714156f5-f605-47ec-995f-50ce68d4e8f9"
      },
      "execution_count": null,
      "outputs": [
        {
          "output_type": "stream",
          "name": "stderr",
          "text": [
            "/tmp/ipython-input-1835457164.py:9: FutureWarning: Use \"auto\" to set automatic grayscale colors. From v0.14.0, \"gray\" will default to matplotlib's definition.\n",
            "  sns.swarmplot(x='Time(s)', y = 'Category', data=df_plot, alpha=0.8, size=6, color='darkgreen', edgecolor='gray', linewidth=0.5 )\n"
          ]
        },
        {
          "output_type": "display_data",
          "data": {
            "text/plain": [
              "<Figure size 1200x500 with 1 Axes>"
            ],
            "image/png": "[encoded data removed]"
          },
          "metadata": {}
        }
      ]
    },
    {
      "cell_type": "markdown",
      "source": [
        "C. Comment on Anything Unusual That You See\n",
        "\n",
        "Answer:\n",
        "\n",
        "The most unusual observation is the existence of a single, extreme outlier at 112.72 seconds.\n",
        "\n",
        "Observation: The vast majority of the 71 swim times are tightly clustered between 48.64 seconds and 62.45 seconds. The time of 112.72 seconds is separated by a massive gap from the rest of the data.\n",
        "\n",
        "Interpretation: This single outlier strongly relates to the problem's context: it almost certainly belongs to one of the athletes admitted under the special program who did not meet standard qualifying procedures, perhaps due to a technical error, an issue during the race, or a substantial difference in training level.\n"
      ],
      "metadata": {
        "id": "Ua55KIga_H5Z"
      }
    },
    {
      "cell_type": "markdown",
      "source": [
        "**Ques: 6.2.5 .WP GO Tutorial . SS The following data are the numbers\n",
        "of cycles to failure of aluminum test coupons subjected to\n",
        "repeated alternating stress at 21,000 psi, 18 cycles per second.\n",
        "1115 865 1015 885 1594 1000 1416 1501\n",
        "1310 2130 845 1223 2023 1820 1560 1238\n",
        "1540 1421 1674 375 1315 1940 1055 990\n",
        "1502 1109 1016 2265 1269 1120 1764 1468\n",
        "1258 1481 1102 1910 1260 910 1330 1512\n",
        "1315 1567 1605 1018 1888 1730 1608 1750\n",
        "1085 1883 706 1452 1782 1102 1535 1642\n",
        "798 1203 2215 1890 1522 1578 1781\n",
        "1020 1270 785 2100 1792 758 1750\n",
        "Construct a histogram for these data. Calculate the\n",
        "median and quartiles of these data. Does it appear likely that a\n",
        "coupon will “survive” beyond 2000 cycles? Justify your answer.**"
      ],
      "metadata": {
        "id": "vTdsaRIyA4Lp"
      }
    },
    {
      "cell_type": "code",
      "source": [
        "import pandas as pd\n",
        "import numpy as np\n",
        "\n",
        "file_path = \"/content/HW-01-Data.csv\"\n",
        "df = pd.read_csv(file_path, header=None)\n",
        "\n",
        "cycles_raw = df.iloc[2:, 11] #data is at 12th column (index 11) from 3rd row (index 2).\n",
        "\n",
        "cycles = pd.to_numeric(cycles_raw.dropna()) #clean data\n",
        "\n",
        "median_val = np.median(cycles)\n",
        "q1 = np.percentile(cycles, 25)\n",
        "q2 = np.percentile(cycles, 50)\n",
        "q3 = np.percentile(cycles, 75)\n",
        "q4 = np.percentile(cycles, 100)\n",
        "\n",
        "print(f'Median: {median_val}')\n",
        "print(f'Q1 (25th percentile): {q1}')\n",
        "print(f'Q2 (50th percentile): {q2}')\n",
        "print(f'Q3 (75th percentile): {q3}')\n",
        "print(f'Q4 (100th percentile): {q4}')"
      ],
      "metadata": {
        "colab": {
          "base_uri": "https://localhost:8080/"
        },
        "id": "JoRehc_ZTw-F",
        "outputId": "b378fbe5-9d36-44de-9f25-919b82509481"
      },
      "execution_count": null,
      "outputs": [
        {
          "output_type": "stream",
          "name": "stdout",
          "text": [
            "Median: 1436.5\n",
            "Q1 (25th percentile): 1102.0\n",
            "Q2 (50th percentile): 1436.5\n",
            "Q3 (75th percentile): 1716.0\n",
            "Q4 (100th percentile): 2265.0\n"
          ]
        }
      ]
    },
    {
      "cell_type": "code",
      "source": [
        "import matplotlib.pyplot as plt\n",
        "\n",
        "plt.figure(figsize=(8,6))\n",
        "plt.hist(cycles, bins=15, color='skyblue', edgecolor='black')\n",
        "plt.title('Distribution of Coupon Life Cycles')\n",
        "plt.xlabel('Number of Cycles')\n",
        "plt.ylabel('Frequency')\n",
        "plt.grid(True, linestyle= '--', alpha= 0.7)\n",
        "plt.show\n",
        "\n"
      ],
      "metadata": {
        "colab": {
          "base_uri": "https://localhost:8080/",
          "height": 734
        },
        "id": "WJ8K2SSDOnT3",
        "outputId": "ce2a4f40-e749-4e33-a320-cb7706c1144d"
      },
      "execution_count": null,
      "outputs": [
        {
          "output_type": "execute_result",
          "data": {
            "text/plain": [
              "<function matplotlib.pyplot.show(close=None, block=None)>"
            ],
            "text/html": [
              "<div style=\"max-width:800px; border: 1px solid var(--colab-border-color);\"><style>\n",
              "      pre.function-repr-contents {\n",
              "        overflow-x: auto;\n",
              "        padding: 8px 12px;\n",
              "        max-height: 500px;\n",
              "      }\n",
              "\n",
              "      pre.function-repr-contents.function-repr-contents-collapsed {\n",
              "        cursor: pointer;\n",
              "        max-height: 100px;\n",
              "      }\n",
              "    </style>\n",
              "    <pre style=\"white-space: initial; background:\n",
              "         var(--colab-secondary-surface-color); padding: 8px 12px;\n",
              "         border-bottom: 1px solid var(--colab-border-color);\"><b>matplotlib.pyplot.show</b><br/>def show(*args, **kwargs) -&gt; None</pre><pre class=\"function-repr-contents function-repr-contents-collapsed\" style=\"\"><a class=\"filepath\" style=\"display:none\" href=\"#\">/usr/local/lib/python3.12/dist-packages/matplotlib/pyplot.py</a>Display all open figures.\n",
              "\n",
              "Parameters\n",
              "----------\n",
              "block : bool, optional\n",
              "    Whether to wait for all figures to be closed before returning.\n",
              "\n",
              "    If `True` block and run the GUI main loop until all figure windows\n",
              "    are closed.\n",
              "\n",
              "    If `False` ensure that all figure windows are displayed and return\n",
              "    immediately.  In this case, you are responsible for ensuring\n",
              "    that the event loop is running to have responsive figures.\n",
              "\n",
              "    Defaults to True in non-interactive mode and to False in interactive\n",
              "    mode (see `.pyplot.isinteractive`).\n",
              "\n",
              "See Also\n",
              "--------\n",
              "ion : Enable interactive mode, which shows / updates the figure after\n",
              "      every plotting command, so that calling ``show()`` is not necessary.\n",
              "ioff : Disable interactive mode.\n",
              "savefig : Save the figure to an image file instead of showing it on screen.\n",
              "\n",
              "Notes\n",
              "-----\n",
              "**Saving figures to file and showing a window at the same time**\n",
              "\n",
              "If you want an image file as well as a user interface window, use\n",
              "`.pyplot.savefig` before `.pyplot.show`. At the end of (a blocking)\n",
              "``show()`` the figure is closed and thus unregistered from pyplot. Calling\n",
              "`.pyplot.savefig` afterwards would save a new and thus empty figure. This\n",
              "limitation of command order does not apply if the show is non-blocking or\n",
              "if you keep a reference to the figure and use `.Figure.savefig`.\n",
              "\n",
              "**Auto-show in jupyter notebooks**\n",
              "\n",
              "The jupyter backends (activated via ``%matplotlib inline``,\n",
              "``%matplotlib notebook``, or ``%matplotlib widget``), call ``show()`` at\n",
              "the end of every cell by default. Thus, you usually don&#x27;t have to call it\n",
              "explicitly there.</pre>\n",
              "      <script>\n",
              "      if (google.colab.kernel.accessAllowed && google.colab.files && google.colab.files.view) {\n",
              "        for (const element of document.querySelectorAll('.filepath')) {\n",
              "          element.style.display = 'block'\n",
              "          element.onclick = (event) => {\n",
              "            event.preventDefault();\n",
              "            event.stopPropagation();\n",
              "            google.colab.files.view(element.textContent, 569);\n",
              "          };\n",
              "        }\n",
              "      }\n",
              "      for (const element of document.querySelectorAll('.function-repr-contents')) {\n",
              "        element.onclick = (event) => {\n",
              "          event.preventDefault();\n",
              "          event.stopPropagation();\n",
              "          element.classList.toggle('function-repr-contents-collapsed');\n",
              "        };\n",
              "      }\n",
              "      </script>\n",
              "      </div>"
            ]
          },
          "metadata": {},
          "execution_count": 42
        },
        {
          "output_type": "display_data",
          "data": {
            "text/plain": [
              "<Figure size 800x600 with 1 Axes>"
            ],
            "image/png": "[encoded data removed]"
          },
          "metadata": {}
        }
      ]
    },
    {
      "cell_type": "code",
      "source": [
        "# Interpretation — will the coupon survive beyond 2000 cycles?\n",
        "survive_2000 = np.sum(cycles > 2000) #5 cycles are beyond 2000\n",
        "print(survive_2000)\n",
        "print(len(cycles)) #total number of cycles is 70\n",
        "\n",
        "prob_survive = survive_2000 / len(cycles) if len(cycles) > 0 else 0 #5/70 is the prob of survival\n",
        "\n",
        "print(f\"Total number of coupons: {len(cycles)}\")\n",
        "print(f\"Number of coupons > 2000 cycles: {survive_2000}\")\n",
        "print(f\"Proportion surviving beyond 2000 cycles: {prob_survive:.2%}\")\n",
        "\n",
        "if prob_survive > 0.5:\n",
        "    print(\"coupons will survive beyond 2000 cycles\")\n",
        "elif prob_survive > 0:\n",
        "    print(\"its unlikely but possible that a coupon will survive beyond 2000 cycles\")\n",
        "else:\n",
        "    print(\"very unlikely that coupon will survive beyond 2000 cycles.\")\n",
        "\n"
      ],
      "metadata": {
        "colab": {
          "base_uri": "https://localhost:8080/"
        },
        "id": "Yjj0bU3qaNRI",
        "outputId": "6c2948ef-1cb0-451e-c9ad-6ff49baf14f0"
      },
      "execution_count": null,
      "outputs": [
        {
          "output_type": "stream",
          "name": "stdout",
          "text": [
            "5\n",
            "70\n",
            "Total number of coupons: 70\n",
            "Number of coupons > 2000 cycles: 5\n",
            "Proportion surviving beyond 2000 cycles: 7.14%\n",
            "its unlikely but possible that a coupon will survive beyond 2000 cycles\n"
          ]
        }
      ]
    },
    {
      "cell_type": "markdown",
      "source": [
        "No, it does not appear likely that a coupon will survive beyond 2000 cycles, because out of the total 70 test coupons, only 5 coupons survived beyond 2000 cycles. This represents a survival rate of only 7.14%.\n"
      ],
      "metadata": {
        "id": "awpsvCSB0Bmh"
      }
    },
    {
      "cell_type": "markdown",
      "source": [
        "**6.2.7 Calculate the sample median, mode, and mean of the data\n",
        "in Exercise 6.2.5. Explain how these three measures of location\n",
        "describe different features in the data.**"
      ],
      "metadata": {
        "id": "HdcWUZr61e6W"
      }
    },
    {
      "cell_type": "code",
      "source": [
        "\n",
        "sample_mean = cycles.mean()\n",
        "sample_median = cycles.median()\n",
        "sample_mode = cycles.mode()\n",
        "\n",
        "print(f\"Sample Mean: {sample_mean:.4f} cycles\")\n",
        "print(f\"Sample Median: {sample_median:.1f} cycles\")\n",
        "print(f\"Sample Mode(s):\")\n",
        "print(sample_mode.to_string(index=False))"
      ],
      "metadata": {
        "colab": {
          "base_uri": "https://localhost:8080/"
        },
        "id": "4yf8HZRP2TOn",
        "outputId": "ccdfa05c-60b0-4aa3-8860-bfc748335208"
      },
      "execution_count": null,
      "outputs": [
        {
          "output_type": "stream",
          "name": "stdout",
          "text": [
            "Sample Mean: 1403.6571 cycles\n",
            "Sample Median: 1436.5 cycles\n",
            "Sample Mode(s):\n",
            "1102\n",
            "1315\n",
            "1750\n"
          ]
        }
      ]
    },
    {
      "cell_type": "markdown",
      "source": [
        "\n",
        "\n",
        "Explanation of Measures\n",
        "\n",
        "**1. Sample Mean (1403.66 cycles):** Sample Mean is the average value. It's the mathematical balance point of the distribution. If we distribute the total cycles endured equally among all 70 coupons, each would last 1403.66 cycles.\n",
        "\n",
        "\n",
        "**2. Sample Median (1436.5 cycles):** The median is the center position. It's value that splits the data into two equal halves. 50% of the coupons failed at or below 1436.5 cycles, and 50% failed at or above 1436.5 cycles.\n",
        "\n",
        "**3. Sample Mode (1102,1315,1750 cycles):** The mode describes the most common value where the highest concentration of data occurs. The failure times 1102, 1315, and 1750 cycles occurred most frequently in this sample."
      ],
      "metadata": {
        "id": "Uk8nIc5FS_Np"
      }
    },
    {
      "cell_type": "markdown",
      "source": [
        "**6.2.8 .WP The female students in an undergraduate engineering\n",
        "core course at ASU self-reported their heights to the nearest inch.\n",
        "The data follow. Construct a stem-and-leaf diagram for the height\n",
        "data and comment on any important features that you notice. Calculate the sample mean, the sample standard deviation, and the\n",
        "sample median of height.**\n",
        "\n",
        "**62 64 61 67 65 68 61 65 60 65 64 63 59\n",
        "68 64 66 68 69 65 67 62 66 68 67 66 65\n",
        "69 65 69 65 67 67 65 63 64 67 65**"
      ],
      "metadata": {
        "id": "_xUwi2bc26XR"
      }
    },
    {
      "cell_type": "code",
      "source": [
        "import pandas as pd\n",
        "import numpy as np\n",
        "\n",
        "file_path = \"/content/HW-01-Data.csv\"\n",
        "df = pd.read_csv(file_path, header=None)\n",
        "\n",
        "heights_raw = df.iloc[2:, 12] #data is at 13th column (index 12) from 3rd row (index 2).\n",
        "heights = pd.to_numeric(heights_raw.dropna()) #clean the data\n",
        "\n",
        "# Calculate statistics\n",
        "mean_value = np.mean(heights)\n",
        "std_dev = np.std(heights, ddof=1)   # sample standard deviation\n",
        "median_value = np.median(heights)\n",
        "\n",
        "print(f\"Sample Mean               = {mean_value:.2f} inches\")\n",
        "print(f\"Sample Standard Deviation = {std_dev:.2f} inches\")\n",
        "print(f\"Sample Median             = {median_value:.2f} inches\")\n"
      ],
      "metadata": {
        "colab": {
          "base_uri": "https://localhost:8080/"
        },
        "id": "g25rpKtQ4pKX",
        "outputId": "679bbdd4-1016-4a1a-d323-8fe93b550b7c"
      },
      "execution_count": null,
      "outputs": [
        {
          "output_type": "stream",
          "name": "stdout",
          "text": [
            "Sample Mean               = 65.81 inches\n",
            "Sample Standard Deviation = 2.11 inches\n",
            "Sample Median             = 66.00 inches\n"
          ]
        }
      ]
    },
    {
      "cell_type": "code",
      "source": [
        "plt.figure(figsize=(8, 6))\n",
        "plt.hist(heights, bins=10, edgecolor='black', alpha=0.7)\n",
        "plt.title(\"Histogram of Female Students' Heights\", fontsize=14)\n",
        "plt.xlabel(\"Height (inches)\", fontsize=12)\n",
        "plt.ylabel(\"Frequency\", fontsize=12)\n",
        "plt.legend()\n",
        "plt.grid(alpha=0.3)\n",
        "plt.show()"
      ],
      "metadata": {
        "colab": {
          "base_uri": "https://localhost:8080/",
          "height": 625
        },
        "id": "QP35d_XjfmmU",
        "outputId": "c019fae5-15cb-46bd-f691-6b34f03c48e3"
      },
      "execution_count": null,
      "outputs": [
        {
          "output_type": "stream",
          "name": "stderr",
          "text": [
            "/tmp/ipython-input-764355302.py:6: UserWarning: No artists with labels found to put in legend.  Note that artists whose label start with an underscore are ignored when legend() is called with no argument.\n",
            "  plt.legend()\n"
          ]
        },
        {
          "output_type": "display_data",
          "data": {
            "text/plain": [
              "<Figure size 800x600 with 1 Axes>"
            ],
            "image/png": "[encoded data removed]"
          },
          "metadata": {}
        }
      ]
    },
    {
      "cell_type": "markdown",
      "source": [
        "**Histogram Interpretation**\n",
        "\n",
        "1. The histogram show a bell-shaped distribution, slightly centered around 65 inches.\n",
        "\n",
        "2. There are no extreme outliers (lowest = 59, highest = 69).\n",
        "\n",
        "3. The mean (65.81 inches) and median(66.00 inches) are nearly identical so the distribution is approximately symmetric."
      ],
      "metadata": {
        "id": "0JLu3-hOgYII"
      }
    }
  ]
}