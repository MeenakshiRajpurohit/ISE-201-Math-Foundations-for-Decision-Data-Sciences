{
  "nbformat": 4,
  "nbformat_minor": 0,
  "metadata": {
    "colab": {
      "provenance": [],
      "authorship_tag": "ABX9TyOdzqlIz2fj7kZt6Sk4j1Jw",
      "include_colab_link": true
    },
    "kernelspec": {
      "name": "python3",
      "display_name": "Python 3"
    },
    "language_info": {
      "name": "python"
    }
  },
  "cells": [
    {
      "cell_type": "markdown",
      "metadata": {
        "id": "view-in-github",
        "colab_type": "text"
      },
      "source": [
        "<a href=\"https://colab.research.google.com/github/MeenakshiRajpurohit/ISE-201-Math-Foundations-for-Decision-Data-Sciences/blob/main/Linear_systems_as_matrices.ipynb\" target=\"_parent\"><img src=\"https://colab.research.google.com/assets/colab-badge.svg\" alt=\"Open In Colab\"/></a>"
      ]
    },
    {
      "cell_type": "code",
      "execution_count": 18,
      "metadata": {
        "id": "KuvJl6sCnCfU"
      },
      "outputs": [],
      "source": [
        "\n",
        "\n",
        "import numpy as np\n",
        "import matplotlib.pyplot as plt\n",
        "#from utils import plot_lines # Removed since the utils module is not available"
      ]
    },
    {
      "cell_type": "code",
      "source": [
        "A = np.array ([\n",
        "    [-1, 3],\n",
        "    [3, 2]\n",
        "], dtype= np.dtype(float))\n",
        "\n",
        "b = np.array([7, 1], dtype= np.dtype(float))\n",
        "\n",
        "print('Matrix A:')\n",
        "print(A)\n",
        "print('Matrix b:')\n",
        "print(b)\n",
        "\n"
      ],
      "metadata": {
        "colab": {
          "base_uri": "https://localhost:8080/"
        },
        "id": "IKiAH1n9vyGm",
        "outputId": "602e1223-f62d-4cd6-8bf1-c88d60c774d3"
      },
      "execution_count": 19,
      "outputs": [
        {
          "output_type": "stream",
          "name": "stdout",
          "text": [
            "Matrix A:\n",
            "[[-1.  3.]\n",
            " [ 3.  2.]]\n",
            "Matrix b:\n",
            "[7. 1.]\n"
          ]
        }
      ]
    },
    {
      "cell_type": "code",
      "source": [
        "print(f'Shape of A: {A.shape}')\n",
        "print(f'Shape of b: {b.shape}')"
      ],
      "metadata": {
        "colab": {
          "base_uri": "https://localhost:8080/"
        },
        "id": "n4Cv1AhXw0EB",
        "outputId": "136bec1d-3838-4033-a9a5-c2dc2b4e9863"
      },
      "execution_count": 20,
      "outputs": [
        {
          "output_type": "stream",
          "name": "stdout",
          "text": [
            "Shape of A: (2, 2)\n",
            "Shape of b: (2,)\n"
          ]
        }
      ]
    },
    {
      "cell_type": "code",
      "source": [
        "x = np.linalg.solve(A,b)\n",
        "\n",
        "print(f'Sloution {x}')"
      ],
      "metadata": {
        "colab": {
          "base_uri": "https://localhost:8080/"
        },
        "id": "DstyAJw5xIQo",
        "outputId": "18550ee3-dbd3-42f4-877b-e5d97d541eca"
      },
      "execution_count": 21,
      "outputs": [
        {
          "output_type": "stream",
          "name": "stdout",
          "text": [
            "Sloution [-1.  2.]\n"
          ]
        }
      ]
    },
    {
      "cell_type": "code",
      "source": [
        "d = np.linalg.det(A)\n",
        "\n",
        "print(f'Determinant of A: {d:.2f}')"
      ],
      "metadata": {
        "colab": {
          "base_uri": "https://localhost:8080/"
        },
        "id": "Ccs0cnEz0QKZ",
        "outputId": "697b6f7f-e1e2-4209-eda4-c57a333fe218"
      },
      "execution_count": 22,
      "outputs": [
        {
          "output_type": "stream",
          "name": "stdout",
          "text": [
            "Determinant of A: -11.00\n"
          ]
        }
      ]
    },
    {
      "cell_type": "code",
      "source": [
        "A_system = np.hstack((A, b.reshape((2, 1))))\n",
        "\n",
        "print(A_system)"
      ],
      "metadata": {
        "colab": {
          "base_uri": "https://localhost:8080/"
        },
        "id": "n5ANZytX0kGm",
        "outputId": "e635fa89-2804-45b4-9302-76b2e674df39"
      },
      "execution_count": 23,
      "outputs": [
        {
          "output_type": "stream",
          "name": "stdout",
          "text": [
            "[[-1.  3.  7.]\n",
            " [ 3.  2.  1.]]\n"
          ]
        }
      ]
    },
    {
      "cell_type": "code",
      "source": [
        "print(A_system[1])"
      ],
      "metadata": {
        "colab": {
          "base_uri": "https://localhost:8080/"
        },
        "id": "R-wsAKkR04vw",
        "outputId": "e5d20896-df56-4ca5-ef2c-5ffda2357fa0"
      },
      "execution_count": 24,
      "outputs": [
        {
          "output_type": "stream",
          "name": "stdout",
          "text": [
            "[3. 2. 1.]\n"
          ]
        }
      ]
    },
    {
      "cell_type": "code",
      "source": [
        "plot_lines(A_system) # Removed since the plot_lines function is not defined"
      ],
      "metadata": {
        "colab": {
          "base_uri": "https://localhost:8080/",
          "height": 147
        },
        "id": "RKsuN9Zz0-Am",
        "outputId": "97b3a4c8-6c73-4089-b4a9-f6cd8d10b6f7"
      },
      "execution_count": 25,
      "outputs": [
        {
          "output_type": "error",
          "ename": "NameError",
          "evalue": "name 'plot_lines' is not defined",
          "traceback": [
            "\u001b[0;31m---------------------------------------------------------------------------\u001b[0m",
            "\u001b[0;31mNameError\u001b[0m                                 Traceback (most recent call last)",
            "\u001b[0;32m/tmp/ipython-input-4138743255.py\u001b[0m in \u001b[0;36m<cell line: 0>\u001b[0;34m()\u001b[0m\n\u001b[0;32m----> 1\u001b[0;31m \u001b[0mplot_lines\u001b[0m\u001b[0;34m(\u001b[0m\u001b[0mA_system\u001b[0m\u001b[0;34m)\u001b[0m \u001b[0;31m# Removed since the plot_lines function is not defined\u001b[0m\u001b[0;34m\u001b[0m\u001b[0;34m\u001b[0m\u001b[0m\n\u001b[0m",
            "\u001b[0;31mNameError\u001b[0m: name 'plot_lines' is not defined"
          ]
        }
      ]
    }
  ]
}