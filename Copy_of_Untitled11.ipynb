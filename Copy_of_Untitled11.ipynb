{
  "nbformat": 4,
  "nbformat_minor": 0,
  "metadata": {
    "colab": {
      "provenance": [],
      "authorship_tag": "ABX9TyPq/5kYnGXLkDvFMqMe/HS0",
      "include_colab_link": true
    },
    "kernelspec": {
      "name": "python3",
      "display_name": "Python 3"
    },
    "language_info": {
      "name": "python"
    }
  },
  "cells": [
    {
      "cell_type": "markdown",
      "metadata": {
        "id": "view-in-github",
        "colab_type": "text"
      },
      "source": [
        "<a href=\"https://colab.research.google.com/github/MeenakshiRajpurohit/ISE-201-Math-Foundations-for-Decision-Data-Sciences/blob/main/Copy_of_Untitled11.ipynb\" target=\"_parent\"><img src=\"https://colab.research.google.com/assets/colab-badge.svg\" alt=\"Open In Colab\"/></a>"
      ]
    },
    {
      "cell_type": "code",
      "execution_count": null,
      "metadata": {
        "colab": {
          "base_uri": "https://localhost:8080/"
        },
        "id": "cfpEbs_4fIwi",
        "outputId": "87568db6-50d4-4888-859f-18f3fa4c7324"
      },
      "outputs": [
        {
          "output_type": "execute_result",
          "data": {
            "text/plain": [
              "(np.float64(7.0710678118654755),\n",
              " np.float64(7.0710678118654755),\n",
              " np.float64(78.46304096718453))"
            ]
          },
          "metadata": {},
          "execution_count": 2
        }
      ],
      "source": [
        "import numpy as np\n",
        "\n",
        "a = np.array([5, 0, 4, 3])\n",
        "b = np.array([3, 6, -2, 1])\n",
        "\n",
        "mag_a = np.linalg.norm(a)\n",
        "mag_b = np.linalg.norm(b)\n",
        "\n",
        "dot_ab = np.dot(a, b)\n",
        "\n",
        "\n",
        "cos = dot_ab / (mag_a * mag_b)\n",
        "theta_rad = np.arccos(cos)\n",
        "\n",
        "theta_deg = np.degrees(theta_rad)\n",
        "\n",
        "mag_a, mag_b, theta_deg\n"
      ]
    },
    {
      "cell_type": "code",
      "source": [
        "a = np.array([5, 0, 4, 3])"
      ],
      "metadata": {
        "id": "HDABAa0VpYIi"
      },
      "execution_count": null,
      "outputs": []
    },
    {
      "cell_type": "code",
      "source": [
        "import numpy as np\n",
        "\n",
        "# Define vectors\n",
        "a = np.array([5, 0, 4, 3])\n",
        "b = np.array([3, 6, -2, 1])\n",
        "\n",
        "# Inner product\n",
        "inner_product = np.dot(a, b)\n",
        "\n",
        "# Projection of a onto b\n",
        "proj_scalar = inner_product / np.dot(b, b)\n",
        "projection = proj_scalar * b\n",
        "\n",
        "# Outer product\n",
        "outer_product = np.outer(a, b)\n",
        "\n",
        "inner_product, projection, outer_product\n"
      ],
      "metadata": {
        "colab": {
          "base_uri": "https://localhost:8080/"
        },
        "id": "5KvrUn0KzlBj",
        "outputId": "5f7d6b2a-5826-48c5-fce3-15fcc74f3dc7"
      },
      "execution_count": null,
      "outputs": [
        {
          "output_type": "execute_result",
          "data": {
            "text/plain": [
              "(np.int64(10),\n",
              " array([ 0.6,  1.2, -0.4,  0.2]),\n",
              " array([[ 15,  30, -10,   5],\n",
              "        [  0,   0,   0,   0],\n",
              "        [ 12,  24,  -8,   4],\n",
              "        [  9,  18,  -6,   3]]))"
            ]
          },
          "metadata": {},
          "execution_count": 3
        }
      ]
    }
  ]
}